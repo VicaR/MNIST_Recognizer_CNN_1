{
 "cells": [
  {
   "cell_type": "markdown",
   "metadata": {
    "toc": true
   },
   "source": [
    "<h1>MNIST_Recognizer_CNN<span class=\"tocSkip\"></span></h1>\n",
    "<div class=\"toc\"><ul class=\"toc-item\"><li><span><a href=\"#Importing-libraries\" data-toc-modified-id=\"Importing-libraries-1\"><span class=\"toc-item-num\">1&nbsp;&nbsp;</span>Importing libraries</a></span></li><li><span><a href=\"#Data-Preparation\" data-toc-modified-id=\"Data-Preparation-2\"><span class=\"toc-item-num\">2&nbsp;&nbsp;</span>Data Preparation</a></span><ul class=\"toc-item\"><li><span><a href=\"#Load-data\" data-toc-modified-id=\"Load-data-2.1\"><span class=\"toc-item-num\">2.1&nbsp;&nbsp;</span>Load data</a></span></li><li><span><a href=\"#Split-into-Target-and-Features\" data-toc-modified-id=\"Split-into-Target-and-Features-2.2\"><span class=\"toc-item-num\">2.2&nbsp;&nbsp;</span>Split into Target and Features</a></span></li><li><span><a href=\"#Check-for-null-and-missing-values\" data-toc-modified-id=\"Check-for-null-and-missing-values-2.3\"><span class=\"toc-item-num\">2.3&nbsp;&nbsp;</span>Check for null and missing values</a></span></li><li><span><a href=\"#Normalize-data\" data-toc-modified-id=\"Normalize-data-2.4\"><span class=\"toc-item-num\">2.4&nbsp;&nbsp;</span>Normalize data</a></span></li><li><span><a href=\"#Reshape\" data-toc-modified-id=\"Reshape-2.5\"><span class=\"toc-item-num\">2.5&nbsp;&nbsp;</span>Reshape</a></span></li><li><span><a href=\"#Encode-target\" data-toc-modified-id=\"Encode-target-2.6\"><span class=\"toc-item-num\">2.6&nbsp;&nbsp;</span>Encode target</a></span></li><li><span><a href=\"#Split-into-train-and-validation-set\" data-toc-modified-id=\"Split-into-train-and-validation-set-2.7\"><span class=\"toc-item-num\">2.7&nbsp;&nbsp;</span>Split into train and validation set</a></span></li></ul></li><li><span><a href=\"#Modeling-(Ensemble-of-5-CNN)\" data-toc-modified-id=\"Modeling-(Ensemble-of-5-CNN)-3\"><span class=\"toc-item-num\">3&nbsp;&nbsp;</span>Modeling (Ensemble of 5 CNN)</a></span><ul class=\"toc-item\"><li><span><a href=\"#Define-the-model\" data-toc-modified-id=\"Define-the-model-3.1\"><span class=\"toc-item-num\">3.1&nbsp;&nbsp;</span>Define the model</a></span></li><li><span><a href=\"#Data-augmentation\" data-toc-modified-id=\"Data-augmentation-3.2\"><span class=\"toc-item-num\">3.2&nbsp;&nbsp;</span>Data augmentation</a></span></li></ul></li><li><span><a href=\"#Evaluation\" data-toc-modified-id=\"Evaluation-4\"><span class=\"toc-item-num\">4&nbsp;&nbsp;</span>Evaluation</a></span><ul class=\"toc-item\"><li><span><a href=\"#Training-and-validation-curves\" data-toc-modified-id=\"Training-and-validation-curves-4.1\"><span class=\"toc-item-num\">4.1&nbsp;&nbsp;</span>Training and validation curves</a></span></li><li><span><a href=\"#Confusion-matrix\" data-toc-modified-id=\"Confusion-matrix-4.2\"><span class=\"toc-item-num\">4.2&nbsp;&nbsp;</span>Confusion matrix</a></span></li><li><span><a href=\"#Explore-the-errors\" data-toc-modified-id=\"Explore-the-errors-4.3\"><span class=\"toc-item-num\">4.3&nbsp;&nbsp;</span>Explore the errors</a></span></li></ul></li><li><span><a href=\"#Prediction\" data-toc-modified-id=\"Prediction-5\"><span class=\"toc-item-num\">5&nbsp;&nbsp;</span>Prediction</a></span></li></ul></div>"
   ]
  },
  {
   "cell_type": "markdown",
   "metadata": {},
   "source": [
    "# Importing libraries"
   ]
  },
  {
   "cell_type": "code",
   "execution_count": 1,
   "metadata": {},
   "outputs": [],
   "source": [
    "#Basic \n",
    "\n",
    "import numpy as np\n",
    "import pandas as pd\n",
    "import matplotlib.pyplot as plt\n",
    "import seaborn as sns\n",
    "from sklearn.model_selection import train_test_split\n",
    "from sklearn.model_selection import cross_val_score\n",
    "\n",
    "%matplotlib inline\n",
    "sns.set(style='white', context='notebook', palette='deep')\n",
    "\n",
    "np.random.seed(9)"
   ]
  },
  {
   "cell_type": "code",
   "execution_count": 2,
   "metadata": {
    "code_folding": []
   },
   "outputs": [
    {
     "name": "stderr",
     "output_type": "stream",
     "text": [
      "Using TensorFlow backend.\n"
     ]
    }
   ],
   "source": [
    "#Specific\n",
    "\n",
    "import matplotlib.image as mpimg\n",
    "from sklearn.metrics import confusion_matrix\n",
    "import itertools\n",
    "\n",
    "import tensorflow as tf\n",
    "\n",
    "from keras.utils.np_utils import to_categorical #convert to one-hot-encoding\n",
    "from keras.models import Sequential\n",
    "from keras.layers import Dense,Dropout,Flatten,Conv2D,MaxPool2D,BatchNormalization\n",
    "from keras.optimizers import RMSprop\n",
    "from keras.preprocessing.image import ImageDataGenerator\n",
    "from keras.callbacks import ReduceLROnPlateau\n",
    "from keras.callbacks import LearningRateScheduler\n"
   ]
  },
  {
   "cell_type": "code",
   "execution_count": 3,
   "metadata": {},
   "outputs": [
    {
     "name": "stdout",
     "output_type": "stream",
     "text": [
      "Default GPU Device: /device:GPU:0\n",
      "True\n"
     ]
    }
   ],
   "source": [
    "#GPU testing \n",
    "\n",
    "if tf.test.gpu_device_name():\n",
    "    print('Default GPU Device: {}'.format(tf.test.gpu_device_name()))\n",
    "else:\n",
    "    print(\"Please install GPU version of TF\")\n",
    "print(tf.test.is_built_with_cuda())"
   ]
  },
  {
   "cell_type": "markdown",
   "metadata": {},
   "source": [
    "# Data Preparation "
   ]
  },
  {
   "cell_type": "markdown",
   "metadata": {},
   "source": [
    "## Load data "
   ]
  },
  {
   "cell_type": "code",
   "execution_count": 4,
   "metadata": {},
   "outputs": [],
   "source": [
    "train=pd.read_csv('train.csv')\n",
    "test=pd.read_csv('test.csv')"
   ]
  },
  {
   "cell_type": "markdown",
   "metadata": {},
   "source": [
    "## Split into Target and Features"
   ]
  },
  {
   "cell_type": "code",
   "execution_count": 5,
   "metadata": {},
   "outputs": [],
   "source": [
    "y_train=train['label']\n",
    "X_train=train.drop(columns='label')"
   ]
  },
  {
   "cell_type": "code",
   "execution_count": 6,
   "metadata": {},
   "outputs": [],
   "source": [
    "# free some space\n",
    "del train "
   ]
  },
  {
   "cell_type": "markdown",
   "metadata": {},
   "source": [
    "Check balance in the target varible"
   ]
  },
  {
   "cell_type": "code",
   "execution_count": 7,
   "metadata": {},
   "outputs": [
    {
     "data": {
      "text/plain": [
       "<matplotlib.axes._subplots.AxesSubplot at 0x14e00279d48>"
      ]
     },
     "execution_count": 7,
     "metadata": {},
     "output_type": "execute_result"
    },
    {
     "data": {
      "image/png": "[encoded data removed]",
      "text/plain": [
       "<Figure size 432x288 with 1 Axes>"
      ]
     },
     "metadata": {},
     "output_type": "display_data"
    }
   ],
   "source": [
    "sns.countplot(y_train)"
   ]
  },
  {
   "cell_type": "markdown",
   "metadata": {},
   "source": [
    "The dataset is balanced"
   ]
  },
  {
   "cell_type": "markdown",
   "metadata": {},
   "source": [
    "## Check for null and missing values"
   ]
  },
  {
   "cell_type": "code",
   "execution_count": 8,
   "metadata": {},
   "outputs": [
    {
     "data": {
      "text/plain": [
       "0"
      ]
     },
     "execution_count": 8,
     "metadata": {},
     "output_type": "execute_result"
    }
   ],
   "source": [
    "X_train.isna().any().sum()"
   ]
  },
  {
   "cell_type": "code",
   "execution_count": 9,
   "metadata": {},
   "outputs": [
    {
     "data": {
      "text/plain": [
       "0"
      ]
     },
     "execution_count": 9,
     "metadata": {},
     "output_type": "execute_result"
    }
   ],
   "source": [
    "test.isna().any().sum()"
   ]
  },
  {
   "cell_type": "markdown",
   "metadata": {},
   "source": [
    "## Normalize data"
   ]
  },
  {
   "cell_type": "code",
   "execution_count": 10,
   "metadata": {},
   "outputs": [],
   "source": [
    "X_train /=255.0\n",
    "test /=255.0"
   ]
  },
  {
   "cell_type": "markdown",
   "metadata": {},
   "source": [
    "## Reshape"
   ]
  },
  {
   "cell_type": "code",
   "execution_count": 11,
   "metadata": {},
   "outputs": [],
   "source": [
    "X_train=X_train.values.reshape(-1,28,28,1)\n",
    "test=test.values.reshape(-1,28,28,1)"
   ]
  },
  {
   "cell_type": "markdown",
   "metadata": {},
   "source": [
    "## Encode target"
   ]
  },
  {
   "cell_type": "code",
   "execution_count": 12,
   "metadata": {},
   "outputs": [],
   "source": [
    "#Cross-entropy loss needs OHE for target\n",
    "y_train=to_categorical(y_train,num_classes=10)"
   ]
  },
  {
   "cell_type": "markdown",
   "metadata": {},
   "source": [
    "## Split into train and validation set"
   ]
  },
  {
   "cell_type": "code",
   "execution_count": 13,
   "metadata": {},
   "outputs": [],
   "source": [
    "X_train,X_val,y_train,y_val=train_test_split(X_train,y_train,test_size = 0.25, random_state=2)"
   ]
  },
  {
   "cell_type": "code",
   "execution_count": 14,
   "metadata": {},
   "outputs": [
    {
     "data": {
      "text/plain": [
       "<matplotlib.image.AxesImage at 0x14e000daec8>"
      ]
     },
     "execution_count": 14,
     "metadata": {},
     "output_type": "execute_result"
    },
    {
     "data": {
      "image/png": "[encoded data removed]",
      "text/plain": [
       "<Figure size 432x288 with 1 Axes>"
      ]
     },
     "metadata": {},
     "output_type": "display_data"
    }
   ],
   "source": [
    "plt.imshow(X_train[0][:,:,0])"
   ]
  },
  {
   "cell_type": "code",
   "execution_count": 15,
   "metadata": {},
   "outputs": [
    {
     "data": {
      "text/plain": [
       "(31500, 28, 28, 1)"
      ]
     },
     "execution_count": 15,
     "metadata": {},
     "output_type": "execute_result"
    }
   ],
   "source": [
    "X_train.shape"
   ]
  },
  {
   "cell_type": "markdown",
   "metadata": {},
   "source": [
    "# Modeling (Ensemble of 5 CNN)"
   ]
  },
  {
   "cell_type": "markdown",
   "metadata": {},
   "source": [
    "## Define the model"
   ]
  },
  {
   "cell_type": "code",
   "execution_count": 23,
   "metadata": {},
   "outputs": [],
   "source": [
    "nets=5\n",
    "model=[0]*nets\n",
    "\n",
    "for i in range(nets):\n",
    "    model[i]=Sequential()\n",
    "    \n",
    "    model[i].add(Conv2D(filters=32,kernel_size=(3,3),activation='relu',input_shape=(28,28,1)))\n",
    "    model[i].add(BatchNormalization())\n",
    "    model[i].add(Conv2D(filters=32,kernel_size=(3,3),activation='relu'))\n",
    "    model[i].add(BatchNormalization())\n",
    "    model[i].add(Conv2D(32, kernel_size =(5,5), strides=2, padding='same', activation='relu'))\n",
    "    model[i].add(BatchNormalization())\n",
    "    model[i].add(Dropout(0.4))\n",
    "    \n",
    "    model[i].add(Conv2D(64, kernel_size = 3, activation='relu'))\n",
    "    model[i].add(BatchNormalization())\n",
    "    model[i].add(Conv2D(64, kernel_size = 3, activation='relu'))\n",
    "    model[i].add(BatchNormalization())\n",
    "    model[i].add(Conv2D(64, kernel_size = 5, strides=2, padding='same', activation='relu'))\n",
    "    model[i].add(BatchNormalization())\n",
    "    model[i].add(Dropout(0.4))\n",
    "    \n",
    "    model[i].add(Conv2D(128, kernel_size = 4, activation='relu'))\n",
    "    model[i].add(BatchNormalization())\n",
    "    \n",
    "    model[i].add(Flatten())\n",
    "    model[i].add(Dropout(0.4))\n",
    "    model[i].add(Dense(10,activation='softmax'))\n",
    "    \n",
    "    model[i].compile(optimizer='adam',loss=\"categorical_crossentropy\",metrics=['accuracy'] )\n",
    "    "
   ]
  },
  {
   "cell_type": "markdown",
   "metadata": {},
   "source": [
    "To keep the advantage of the fast computation time with a high LR, i decreased the LR dynamically every X steps (epochs) depending if it is necessary (when accuracy is not improved).\n",
    "\n",
    "With the ReduceLROnPlateau function from Keras.callbacks, i choose to reduce the LR by half if the accuracy is not improved after 3 epochs."
   ]
  },
  {
   "cell_type": "code",
   "execution_count": 18,
   "metadata": {},
   "outputs": [],
   "source": [
    "# Set a learning rate annealer\n",
    "learning_rate_reduction = ReduceLROnPlateau(monitor='val_accuracy', \n",
    "                                            patience=3, \n",
    "                                            verbose=1, \n",
    "                                            factor=0.5, \n",
    "                                            min_lr=0.00001)"
   ]
  },
  {
   "cell_type": "markdown",
   "metadata": {},
   "source": [
    "## Data augmentation"
   ]
  },
  {
   "cell_type": "code",
   "execution_count": 20,
   "metadata": {},
   "outputs": [],
   "source": [
    "# With data augmentation to prevent overfitting:\n",
    "datagen = ImageDataGenerator(\n",
    "          featurewise_center=False,            # set input mean to 0 over the dataset\n",
    "          samplewise_center=False,             # set each sample mean to 0\n",
    "          featurewise_std_normalization=False, # divide inputs by std of the dataset\n",
    "          samplewise_std_normalization=False,  # divide each input by its std\n",
    "          zca_whitening=False,                 # apply ZCA whitening\n",
    "          rotation_range=10,                   # randomly rotate images in the range (degrees, 0 to 180)\n",
    "          zoom_range = 0.1,                    # Randomly zoom image \n",
    "          width_shift_range=0.1,               # randomly shift images horizontally (fraction of total width)\n",
    "          height_shift_range=0.1,              # randomly shift images vertically (fraction of total height)\n",
    "          horizontal_flip=False,               # randomly flip images\n",
    "          vertical_flip=False)                 # randomly flip images\n",
    "\n",
    "datagen.fit(X_train)"
   ]
  },
  {
   "cell_type": "code",
   "execution_count": 21,
   "metadata": {},
   "outputs": [],
   "source": [
    "annealer = LearningRateScheduler(lambda x: 1e-3 * 0.95 ** x)"
   ]
  },
  {
   "cell_type": "code",
   "execution_count": 24,
   "metadata": {
    "code_folding": [],
    "scrolled": true
   },
   "outputs": [
    {
     "name": "stdout",
     "output_type": "stream",
     "text": [
      "CNN  1\n",
      "Epoch 1/30\n",
      "442/442 [==============================] - 54s 123ms/step - loss: 0.5918 - accuracy: 0.8159 - val_loss: 0.8902 - val_accuracy: 0.7162\n",
      "Epoch 2/30\n",
      "442/442 [==============================] - 53s 120ms/step - loss: 0.1661 - accuracy: 0.9494 - val_loss: 0.0593 - val_accuracy: 0.9787\n",
      "Epoch 3/30\n",
      "442/442 [==============================] - 52s 119ms/step - loss: 0.1129 - accuracy: 0.9662 - val_loss: 0.0465 - val_accuracy: 0.9848\n",
      "Epoch 4/30\n",
      "442/442 [==============================] - 53s 119ms/step - loss: 0.0991 - accuracy: 0.9710 - val_loss: 0.0340 - val_accuracy: 0.9902\n",
      "Epoch 5/30\n",
      "442/442 [==============================] - 54s 122ms/step - loss: 0.0844 - accuracy: 0.9744 - val_loss: 0.0431 - val_accuracy: 0.9863\n",
      "Epoch 6/30\n",
      "442/442 [==============================] - 54s 121ms/step - loss: 0.0748 - accuracy: 0.9771 - val_loss: 0.0402 - val_accuracy: 0.9876\n",
      "Epoch 7/30\n",
      "442/442 [==============================] - 53s 121ms/step - loss: 0.0685 - accuracy: 0.9791 - val_loss: 0.0278 - val_accuracy: 0.9924\n",
      "Epoch 8/30\n",
      "442/442 [==============================] - 53s 120ms/step - loss: 0.0633 - accuracy: 0.9801 - val_loss: 0.0391 - val_accuracy: 0.9886\n",
      "Epoch 9/30\n",
      "442/442 [==============================] - 53s 120ms/step - loss: 0.0578 - accuracy: 0.9828 - val_loss: 0.0320 - val_accuracy: 0.9908\n",
      "Epoch 10/30\n",
      "442/442 [==============================] - 54s 122ms/step - loss: 0.0574 - accuracy: 0.9819 - val_loss: 0.0357 - val_accuracy: 0.9914\n",
      "Epoch 11/30\n",
      "442/442 [==============================] - 53s 120ms/step - loss: 0.0506 - accuracy: 0.9850 - val_loss: 0.0423 - val_accuracy: 0.9914\n",
      "Epoch 12/30\n",
      "442/442 [==============================] - 54s 123ms/step - loss: 0.0497 - accuracy: 0.9849 - val_loss: 0.0265 - val_accuracy: 0.9930\n",
      "Epoch 13/30\n",
      "442/442 [==============================] - 53s 120ms/step - loss: 0.0466 - accuracy: 0.9862 - val_loss: 0.0351 - val_accuracy: 0.9902\n",
      "Epoch 14/30\n",
      "442/442 [==============================] - 53s 121ms/step - loss: 0.0424 - accuracy: 0.9874 - val_loss: 0.0250 - val_accuracy: 0.9937\n",
      "Epoch 15/30\n",
      "442/442 [==============================] - 53s 120ms/step - loss: 0.0426 - accuracy: 0.9870 - val_loss: 0.0199 - val_accuracy: 0.9943\n",
      "Epoch 16/30\n",
      "442/442 [==============================] - 54s 122ms/step - loss: 0.0408 - accuracy: 0.9879 - val_loss: 0.0208 - val_accuracy: 0.9943\n",
      "Epoch 17/30\n",
      "442/442 [==============================] - 58s 132ms/step - loss: 0.0354 - accuracy: 0.9899 - val_loss: 0.0229 - val_accuracy: 0.9930\n",
      "Epoch 18/30\n",
      "442/442 [==============================] - 55s 124ms/step - loss: 0.0345 - accuracy: 0.9891 - val_loss: 0.0279 - val_accuracy: 0.9924\n",
      "Epoch 19/30\n",
      "442/442 [==============================] - 55s 126ms/step - loss: 0.0329 - accuracy: 0.9896 - val_loss: 0.0207 - val_accuracy: 0.9946\n",
      "Epoch 20/30\n",
      "442/442 [==============================] - 54s 123ms/step - loss: 0.0329 - accuracy: 0.9903 - val_loss: 0.0214 - val_accuracy: 0.9933\n",
      "Epoch 21/30\n",
      "442/442 [==============================] - 54s 122ms/step - loss: 0.0333 - accuracy: 0.9898 - val_loss: 0.0175 - val_accuracy: 0.9937\n",
      "Epoch 22/30\n",
      "442/442 [==============================] - 56s 127ms/step - loss: 0.0316 - accuracy: 0.9906 - val_loss: 0.0193 - val_accuracy: 0.9949\n",
      "Epoch 23/30\n",
      "442/442 [==============================] - 54s 121ms/step - loss: 0.0286 - accuracy: 0.9903 - val_loss: 0.0233 - val_accuracy: 0.9927\n",
      "Epoch 24/30\n",
      "442/442 [==============================] - 53s 120ms/step - loss: 0.0281 - accuracy: 0.9917 - val_loss: 0.0189 - val_accuracy: 0.9949\n",
      "Epoch 25/30\n",
      "442/442 [==============================] - 53s 120ms/step - loss: 0.0276 - accuracy: 0.9921 - val_loss: 0.0174 - val_accuracy: 0.9952\n",
      "Epoch 26/30\n",
      "442/442 [==============================] - 53s 120ms/step - loss: 0.0249 - accuracy: 0.9928 - val_loss: 0.0196 - val_accuracy: 0.9937\n",
      "Epoch 27/30\n",
      "442/442 [==============================] - 53s 120ms/step - loss: 0.0279 - accuracy: 0.9920 - val_loss: 0.0180 - val_accuracy: 0.9952\n",
      "Epoch 28/30\n",
      "442/442 [==============================] - 54s 122ms/step - loss: 0.0238 - accuracy: 0.9929 - val_loss: 0.0169 - val_accuracy: 0.9946\n",
      "Epoch 29/30\n",
      "442/442 [==============================] - 55s 125ms/step - loss: 0.0218 - accuracy: 0.9936 - val_loss: 0.0179 - val_accuracy: 0.9952\n",
      "Epoch 30/30\n",
      "442/442 [==============================] - 55s 124ms/step - loss: 0.0228 - accuracy: 0.9929 - val_loss: 0.0189 - val_accuracy: 0.9943\n",
      "CNN 1: Epochs=30, Train accuracy=0.99357, Validation accuracy=0.99524\n",
      "CNN  2\n",
      "Epoch 1/30\n",
      "442/442 [==============================] - 56s 126ms/step - loss: 0.5281 - accuracy: 0.8367 - val_loss: 2.4131 - val_accuracy: 0.4876\n",
      "Epoch 2/30\n",
      "442/442 [==============================] - 52s 118ms/step - loss: 0.1526 - accuracy: 0.9537 - val_loss: 0.0584 - val_accuracy: 0.9829\n",
      "Epoch 3/30\n",
      "442/442 [==============================] - 52s 119ms/step - loss: 0.1081 - accuracy: 0.9673 - val_loss: 0.0357 - val_accuracy: 0.9892\n",
      "Epoch 4/30\n",
      "442/442 [==============================] - 52s 119ms/step - loss: 0.0936 - accuracy: 0.9727 - val_loss: 0.0281 - val_accuracy: 0.9917\n",
      "Epoch 5/30\n",
      "442/442 [==============================] - 53s 119ms/step - loss: 0.0842 - accuracy: 0.9757 - val_loss: 0.0253 - val_accuracy: 0.9933\n",
      "Epoch 6/30\n",
      "442/442 [==============================] - 52s 118ms/step - loss: 0.0764 - accuracy: 0.9768 - val_loss: 0.0279 - val_accuracy: 0.9917\n",
      "Epoch 7/30\n",
      "442/442 [==============================] - 53s 120ms/step - loss: 0.0657 - accuracy: 0.9801 - val_loss: 0.0244 - val_accuracy: 0.9927\n",
      "Epoch 8/30\n",
      "442/442 [==============================] - 53s 119ms/step - loss: 0.0583 - accuracy: 0.9826 - val_loss: 0.0189 - val_accuracy: 0.9943\n",
      "Epoch 9/30\n",
      "442/442 [==============================] - 53s 119ms/step - loss: 0.0580 - accuracy: 0.9829 - val_loss: 0.0165 - val_accuracy: 0.9956\n",
      "Epoch 10/30\n",
      "442/442 [==============================] - 53s 119ms/step - loss: 0.0531 - accuracy: 0.9841 - val_loss: 0.0160 - val_accuracy: 0.9946\n",
      "Epoch 11/30\n",
      "442/442 [==============================] - 53s 120ms/step - loss: 0.0530 - accuracy: 0.9835 - val_loss: 0.0219 - val_accuracy: 0.9937\n",
      "Epoch 12/30\n",
      "442/442 [==============================] - 52s 119ms/step - loss: 0.0474 - accuracy: 0.9859 - val_loss: 0.0189 - val_accuracy: 0.9943\n",
      "Epoch 13/30\n",
      "442/442 [==============================] - 52s 118ms/step - loss: 0.0471 - accuracy: 0.9868 - val_loss: 0.0174 - val_accuracy: 0.9962\n",
      "Epoch 14/30\n",
      "442/442 [==============================] - 52s 119ms/step - loss: 0.0442 - accuracy: 0.9871 - val_loss: 0.0161 - val_accuracy: 0.9962\n",
      "Epoch 15/30\n",
      "442/442 [==============================] - 53s 119ms/step - loss: 0.0423 - accuracy: 0.9869 - val_loss: 0.0214 - val_accuracy: 0.9917\n",
      "Epoch 16/30\n",
      "442/442 [==============================] - 52s 119ms/step - loss: 0.0409 - accuracy: 0.9881 - val_loss: 0.0184 - val_accuracy: 0.9943\n",
      "Epoch 17/30\n",
      "442/442 [==============================] - 52s 118ms/step - loss: 0.0367 - accuracy: 0.9886 - val_loss: 0.0146 - val_accuracy: 0.9952\n",
      "Epoch 18/30\n",
      "442/442 [==============================] - 55s 124ms/step - loss: 0.0360 - accuracy: 0.9891 - val_loss: 0.0174 - val_accuracy: 0.9949\n",
      "Epoch 19/30\n",
      "442/442 [==============================] - 54s 121ms/step - loss: 0.0316 - accuracy: 0.9902 - val_loss: 0.0194 - val_accuracy: 0.9946\n",
      "Epoch 20/30\n",
      "442/442 [==============================] - 53s 119ms/step - loss: 0.0313 - accuracy: 0.9904 - val_loss: 0.0147 - val_accuracy: 0.9965\n",
      "Epoch 21/30\n",
      "442/442 [==============================] - 52s 118ms/step - loss: 0.0320 - accuracy: 0.9903 - val_loss: 0.0151 - val_accuracy: 0.9965\n",
      "Epoch 22/30\n",
      "442/442 [==============================] - 52s 118ms/step - loss: 0.0321 - accuracy: 0.9900 - val_loss: 0.0152 - val_accuracy: 0.9949\n",
      "Epoch 23/30\n",
      "442/442 [==============================] - 52s 119ms/step - loss: 0.0315 - accuracy: 0.9899 - val_loss: 0.0139 - val_accuracy: 0.9968\n",
      "Epoch 24/30\n",
      "442/442 [==============================] - 52s 118ms/step - loss: 0.0278 - accuracy: 0.9913 - val_loss: 0.0139 - val_accuracy: 0.9978\n",
      "Epoch 25/30\n",
      "442/442 [==============================] - 52s 118ms/step - loss: 0.0255 - accuracy: 0.9920 - val_loss: 0.0167 - val_accuracy: 0.9971\n",
      "Epoch 26/30\n"
     ]
    },
    {
     "name": "stdout",
     "output_type": "stream",
     "text": [
      "442/442 [==============================] - 52s 118ms/step - loss: 0.0249 - accuracy: 0.9925 - val_loss: 0.0165 - val_accuracy: 0.9962\n",
      "Epoch 27/30\n",
      "442/442 [==============================] - 52s 118ms/step - loss: 0.0268 - accuracy: 0.9918 - val_loss: 0.0141 - val_accuracy: 0.9965\n",
      "Epoch 28/30\n",
      "442/442 [==============================] - 52s 118ms/step - loss: 0.0233 - accuracy: 0.9926 - val_loss: 0.0161 - val_accuracy: 0.9956\n",
      "Epoch 29/30\n",
      "442/442 [==============================] - 52s 118ms/step - loss: 0.0226 - accuracy: 0.9930 - val_loss: 0.0217 - val_accuracy: 0.9949\n",
      "Epoch 30/30\n",
      "442/442 [==============================] - 53s 119ms/step - loss: 0.0233 - accuracy: 0.9927 - val_loss: 0.0154 - val_accuracy: 0.9962\n",
      "CNN 2: Epochs=30, Train accuracy=0.99300, Validation accuracy=0.99778\n",
      "CNN  3\n",
      "Epoch 1/30\n",
      "442/442 [==============================] - 55s 124ms/step - loss: 0.5400 - accuracy: 0.8343 - val_loss: 4.1139 - val_accuracy: 0.3025\n",
      "Epoch 2/30\n",
      "442/442 [==============================] - 52s 118ms/step - loss: 0.1550 - accuracy: 0.9538 - val_loss: 0.0655 - val_accuracy: 0.9810\n",
      "Epoch 3/30\n",
      "442/442 [==============================] - 52s 118ms/step - loss: 0.1112 - accuracy: 0.9655 - val_loss: 0.0393 - val_accuracy: 0.9883\n",
      "Epoch 4/30\n",
      "442/442 [==============================] - 52s 118ms/step - loss: 0.0911 - accuracy: 0.9731 - val_loss: 0.0409 - val_accuracy: 0.9863\n",
      "Epoch 5/30\n",
      "442/442 [==============================] - 52s 118ms/step - loss: 0.0850 - accuracy: 0.9745 - val_loss: 0.0332 - val_accuracy: 0.9905\n",
      "Epoch 6/30\n",
      "442/442 [==============================] - 52s 118ms/step - loss: 0.0741 - accuracy: 0.9771 - val_loss: 0.0566 - val_accuracy: 0.9810\n",
      "Epoch 7/30\n",
      "442/442 [==============================] - 52s 118ms/step - loss: 0.0704 - accuracy: 0.9804 - val_loss: 0.0319 - val_accuracy: 0.9914\n",
      "Epoch 8/30\n",
      "442/442 [==============================] - 52s 118ms/step - loss: 0.0597 - accuracy: 0.9813 - val_loss: 0.0283 - val_accuracy: 0.9917\n",
      "Epoch 9/30\n",
      "442/442 [==============================] - 52s 118ms/step - loss: 0.0611 - accuracy: 0.9815 - val_loss: 0.0327 - val_accuracy: 0.9902\n",
      "Epoch 10/30\n",
      "442/442 [==============================] - 52s 118ms/step - loss: 0.0538 - accuracy: 0.9846 - val_loss: 0.0234 - val_accuracy: 0.9930\n",
      "Epoch 11/30\n",
      "442/442 [==============================] - 52s 118ms/step - loss: 0.0521 - accuracy: 0.9844 - val_loss: 0.0371 - val_accuracy: 0.9886\n",
      "Epoch 12/30\n",
      "442/442 [==============================] - 52s 118ms/step - loss: 0.0499 - accuracy: 0.9853 - val_loss: 0.0312 - val_accuracy: 0.9905\n",
      "Epoch 13/30\n",
      "442/442 [==============================] - 52s 118ms/step - loss: 0.0465 - accuracy: 0.9856 - val_loss: 0.0272 - val_accuracy: 0.9921\n",
      "Epoch 14/30\n",
      "442/442 [==============================] - 52s 118ms/step - loss: 0.0414 - accuracy: 0.9876 - val_loss: 0.0282 - val_accuracy: 0.9914\n",
      "Epoch 15/30\n",
      "442/442 [==============================] - 52s 118ms/step - loss: 0.0406 - accuracy: 0.9878 - val_loss: 0.0254 - val_accuracy: 0.9921\n",
      "Epoch 16/30\n",
      "442/442 [==============================] - 52s 118ms/step - loss: 0.0408 - accuracy: 0.9878 - val_loss: 0.0256 - val_accuracy: 0.9914\n",
      "Epoch 17/30\n",
      "442/442 [==============================] - 52s 118ms/step - loss: 0.0348 - accuracy: 0.9895 - val_loss: 0.0202 - val_accuracy: 0.9933\n",
      "Epoch 18/30\n",
      "442/442 [==============================] - 52s 118ms/step - loss: 0.0360 - accuracy: 0.9896 - val_loss: 0.0214 - val_accuracy: 0.9924\n",
      "Epoch 19/30\n",
      "442/442 [==============================] - 52s 118ms/step - loss: 0.0352 - accuracy: 0.9890 - val_loss: 0.0219 - val_accuracy: 0.9940\n",
      "Epoch 20/30\n",
      "442/442 [==============================] - 52s 118ms/step - loss: 0.0342 - accuracy: 0.9894 - val_loss: 0.0216 - val_accuracy: 0.9917\n",
      "Epoch 21/30\n",
      "442/442 [==============================] - 52s 118ms/step - loss: 0.0292 - accuracy: 0.9911 - val_loss: 0.0241 - val_accuracy: 0.9921\n",
      "Epoch 22/30\n",
      "442/442 [==============================] - 52s 118ms/step - loss: 0.0297 - accuracy: 0.9913 - val_loss: 0.0241 - val_accuracy: 0.9930\n",
      "Epoch 23/30\n",
      "442/442 [==============================] - 52s 118ms/step - loss: 0.0283 - accuracy: 0.9920 - val_loss: 0.0225 - val_accuracy: 0.9930\n",
      "Epoch 24/30\n",
      "442/442 [==============================] - 52s 118ms/step - loss: 0.0283 - accuracy: 0.9915 - val_loss: 0.0215 - val_accuracy: 0.9927\n",
      "Epoch 25/30\n",
      "442/442 [==============================] - 52s 118ms/step - loss: 0.0249 - accuracy: 0.9926 - val_loss: 0.0197 - val_accuracy: 0.9940\n",
      "Epoch 26/30\n",
      "442/442 [==============================] - 52s 118ms/step - loss: 0.0239 - accuracy: 0.9918 - val_loss: 0.0193 - val_accuracy: 0.9933\n",
      "Epoch 27/30\n",
      "442/442 [==============================] - 52s 119ms/step - loss: 0.0241 - accuracy: 0.9926 - val_loss: 0.0185 - val_accuracy: 0.9940\n",
      "Epoch 28/30\n",
      "442/442 [==============================] - 52s 118ms/step - loss: 0.0244 - accuracy: 0.9932 - val_loss: 0.0176 - val_accuracy: 0.9946\n",
      "Epoch 29/30\n",
      "442/442 [==============================] - 52s 118ms/step - loss: 0.0220 - accuracy: 0.9936 - val_loss: 0.0176 - val_accuracy: 0.9949\n",
      "Epoch 30/30\n",
      "442/442 [==============================] - 52s 118ms/step - loss: 0.0236 - accuracy: 0.9925 - val_loss: 0.0168 - val_accuracy: 0.9943\n",
      "CNN 3: Epochs=30, Train accuracy=0.99357, Validation accuracy=0.99492\n",
      "CNN  4\n",
      "Epoch 1/30\n",
      "442/442 [==============================] - 55s 124ms/step - loss: 0.5690 - accuracy: 0.8238 - val_loss: 0.8255 - val_accuracy: 0.7498\n",
      "Epoch 2/30\n",
      "442/442 [==============================] - 52s 118ms/step - loss: 0.1592 - accuracy: 0.9521 - val_loss: 0.0978 - val_accuracy: 0.9689\n",
      "Epoch 3/30\n",
      "442/442 [==============================] - 52s 118ms/step - loss: 0.1136 - accuracy: 0.9662 - val_loss: 0.0421 - val_accuracy: 0.9873\n",
      "Epoch 4/30\n",
      "442/442 [==============================] - 52s 119ms/step - loss: 0.0940 - accuracy: 0.9714 - val_loss: 0.0383 - val_accuracy: 0.9886\n",
      "Epoch 5/30\n",
      "442/442 [==============================] - 52s 119ms/step - loss: 0.0858 - accuracy: 0.9734 - val_loss: 0.0480 - val_accuracy: 0.9857\n",
      "Epoch 6/30\n",
      "442/442 [==============================] - 53s 120ms/step - loss: 0.0744 - accuracy: 0.9771 - val_loss: 0.0370 - val_accuracy: 0.9876\n",
      "Epoch 7/30\n",
      "442/442 [==============================] - 53s 121ms/step - loss: 0.0673 - accuracy: 0.9796 - val_loss: 0.0377 - val_accuracy: 0.9898\n",
      "Epoch 8/30\n",
      "442/442 [==============================] - 53s 119ms/step - loss: 0.0642 - accuracy: 0.9807 - val_loss: 0.0248 - val_accuracy: 0.9917\n",
      "Epoch 9/30\n",
      "442/442 [==============================] - 53s 119ms/step - loss: 0.0584 - accuracy: 0.9820 - val_loss: 0.0341 - val_accuracy: 0.9886\n",
      "Epoch 10/30\n",
      "442/442 [==============================] - 53s 120ms/step - loss: 0.0549 - accuracy: 0.9836 - val_loss: 0.0351 - val_accuracy: 0.9886\n",
      "Epoch 11/30\n",
      "442/442 [==============================] - 53s 121ms/step - loss: 0.0526 - accuracy: 0.9839 - val_loss: 0.0300 - val_accuracy: 0.9902\n",
      "Epoch 12/30\n",
      "442/442 [==============================] - 53s 121ms/step - loss: 0.0482 - accuracy: 0.9852 - val_loss: 0.0253 - val_accuracy: 0.9924\n",
      "Epoch 13/30\n",
      "442/442 [==============================] - 53s 121ms/step - loss: 0.0467 - accuracy: 0.9868 - val_loss: 0.0308 - val_accuracy: 0.9908\n",
      "Epoch 14/30\n",
      "442/442 [==============================] - 53s 121ms/step - loss: 0.0425 - accuracy: 0.9868 - val_loss: 0.0277 - val_accuracy: 0.9917\n",
      "Epoch 15/30\n",
      "442/442 [==============================] - 53s 121ms/step - loss: 0.0409 - accuracy: 0.9885 - val_loss: 0.0323 - val_accuracy: 0.9883\n",
      "Epoch 16/30\n",
      "442/442 [==============================] - 53s 121ms/step - loss: 0.0413 - accuracy: 0.9878 - val_loss: 0.0327 - val_accuracy: 0.9898\n",
      "Epoch 17/30\n",
      "442/442 [==============================] - 53s 121ms/step - loss: 0.0387 - accuracy: 0.9885 - val_loss: 0.0258 - val_accuracy: 0.9917\n",
      "Epoch 18/30\n",
      "442/442 [==============================] - 53s 121ms/step - loss: 0.0366 - accuracy: 0.9883 - val_loss: 0.0357 - val_accuracy: 0.9892\n",
      "Epoch 19/30\n",
      "442/442 [==============================] - 53s 121ms/step - loss: 0.0347 - accuracy: 0.9896 - val_loss: 0.0231 - val_accuracy: 0.9927\n",
      "Epoch 20/30\n",
      "442/442 [==============================] - 53s 121ms/step - loss: 0.0313 - accuracy: 0.9908 - val_loss: 0.0233 - val_accuracy: 0.9927\n",
      "Epoch 21/30\n"
     ]
    },
    {
     "name": "stdout",
     "output_type": "stream",
     "text": [
      "442/442 [==============================] - 52s 118ms/step - loss: 0.0302 - accuracy: 0.9910 - val_loss: 0.0207 - val_accuracy: 0.9933\n",
      "Epoch 22/30\n",
      "442/442 [==============================] - 52s 119ms/step - loss: 0.0293 - accuracy: 0.9911 - val_loss: 0.0221 - val_accuracy: 0.9933\n",
      "Epoch 23/30\n",
      "442/442 [==============================] - 52s 118ms/step - loss: 0.0278 - accuracy: 0.9917 - val_loss: 0.0230 - val_accuracy: 0.9933\n",
      "Epoch 24/30\n",
      "442/442 [==============================] - 52s 118ms/step - loss: 0.0266 - accuracy: 0.9919 - val_loss: 0.0189 - val_accuracy: 0.9946\n",
      "Epoch 25/30\n",
      "442/442 [==============================] - 52s 118ms/step - loss: 0.0267 - accuracy: 0.9922 - val_loss: 0.0238 - val_accuracy: 0.9908\n",
      "Epoch 26/30\n",
      "442/442 [==============================] - 52s 118ms/step - loss: 0.0277 - accuracy: 0.9920 - val_loss: 0.0239 - val_accuracy: 0.9933\n",
      "Epoch 27/30\n",
      "442/442 [==============================] - 52s 119ms/step - loss: 0.0246 - accuracy: 0.9926 - val_loss: 0.0206 - val_accuracy: 0.9940\n",
      "Epoch 28/30\n",
      "442/442 [==============================] - 53s 119ms/step - loss: 0.0228 - accuracy: 0.9929 - val_loss: 0.0175 - val_accuracy: 0.9959\n",
      "Epoch 29/30\n",
      "442/442 [==============================] - 53s 119ms/step - loss: 0.0239 - accuracy: 0.9932 - val_loss: 0.0172 - val_accuracy: 0.9940\n",
      "Epoch 30/30\n",
      "442/442 [==============================] - 53s 119ms/step - loss: 0.0223 - accuracy: 0.9932 - val_loss: 0.0169 - val_accuracy: 0.9949\n",
      "CNN 4: Epochs=30, Train accuracy=0.99325, Validation accuracy=0.99587\n",
      "CNN  5\n",
      "Epoch 1/30\n",
      "442/442 [==============================] - 55s 125ms/step - loss: 0.5831 - accuracy: 0.8182 - val_loss: 1.0964 - val_accuracy: 0.7238\n",
      "Epoch 2/30\n",
      "442/442 [==============================] - 53s 119ms/step - loss: 0.1635 - accuracy: 0.9515 - val_loss: 0.0462 - val_accuracy: 0.9860\n",
      "Epoch 3/30\n",
      "442/442 [==============================] - 53s 120ms/step - loss: 0.1174 - accuracy: 0.9627 - val_loss: 0.0554 - val_accuracy: 0.9841\n",
      "Epoch 4/30\n",
      "442/442 [==============================] - 53s 120ms/step - loss: 0.1024 - accuracy: 0.9682 - val_loss: 0.0437 - val_accuracy: 0.9889\n",
      "Epoch 5/30\n",
      "442/442 [==============================] - 53s 120ms/step - loss: 0.0860 - accuracy: 0.9743 - val_loss: 0.0400 - val_accuracy: 0.9876\n",
      "Epoch 6/30\n",
      "442/442 [==============================] - 53s 120ms/step - loss: 0.0747 - accuracy: 0.9779 - val_loss: 0.0315 - val_accuracy: 0.9905\n",
      "Epoch 7/30\n",
      "442/442 [==============================] - 53s 120ms/step - loss: 0.0681 - accuracy: 0.9796 - val_loss: 0.0392 - val_accuracy: 0.9883\n",
      "Epoch 8/30\n",
      "442/442 [==============================] - 53s 120ms/step - loss: 0.0617 - accuracy: 0.9809 - val_loss: 0.0323 - val_accuracy: 0.9905\n",
      "Epoch 9/30\n",
      "442/442 [==============================] - 53s 120ms/step - loss: 0.0580 - accuracy: 0.9825 - val_loss: 0.0297 - val_accuracy: 0.9921\n",
      "Epoch 10/30\n",
      "442/442 [==============================] - 53s 120ms/step - loss: 0.0547 - accuracy: 0.9844 - val_loss: 0.0256 - val_accuracy: 0.9924\n",
      "Epoch 11/30\n",
      "442/442 [==============================] - 53s 120ms/step - loss: 0.0542 - accuracy: 0.9833 - val_loss: 0.0340 - val_accuracy: 0.9911\n",
      "Epoch 12/30\n",
      "442/442 [==============================] - 53s 120ms/step - loss: 0.0485 - accuracy: 0.9858 - val_loss: 0.0323 - val_accuracy: 0.9921\n",
      "Epoch 13/30\n",
      "442/442 [==============================] - 53s 119ms/step - loss: 0.0465 - accuracy: 0.9860 - val_loss: 0.0304 - val_accuracy: 0.9908\n",
      "Epoch 14/30\n",
      "442/442 [==============================] - 53s 120ms/step - loss: 0.0451 - accuracy: 0.9861 - val_loss: 0.0335 - val_accuracy: 0.9908\n",
      "Epoch 15/30\n",
      "442/442 [==============================] - 54s 121ms/step - loss: 0.0414 - accuracy: 0.9879 - val_loss: 0.0230 - val_accuracy: 0.9940\n",
      "Epoch 16/30\n",
      "442/442 [==============================] - 53s 120ms/step - loss: 0.0416 - accuracy: 0.9883 - val_loss: 0.0204 - val_accuracy: 0.9946\n",
      "Epoch 17/30\n",
      "442/442 [==============================] - 54s 121ms/step - loss: 0.0386 - accuracy: 0.9881 - val_loss: 0.0223 - val_accuracy: 0.9937\n",
      "Epoch 18/30\n",
      "442/442 [==============================] - 53s 120ms/step - loss: 0.0385 - accuracy: 0.9889 - val_loss: 0.0224 - val_accuracy: 0.9933\n",
      "Epoch 19/30\n",
      "442/442 [==============================] - 53s 120ms/step - loss: 0.0362 - accuracy: 0.9895 - val_loss: 0.0210 - val_accuracy: 0.9924\n",
      "Epoch 20/30\n",
      "442/442 [==============================] - 53s 121ms/step - loss: 0.0356 - accuracy: 0.9892 - val_loss: 0.0256 - val_accuracy: 0.9924\n",
      "Epoch 21/30\n",
      "442/442 [==============================] - 53s 120ms/step - loss: 0.0313 - accuracy: 0.9905 - val_loss: 0.0233 - val_accuracy: 0.9930\n",
      "Epoch 22/30\n",
      "442/442 [==============================] - 53s 120ms/step - loss: 0.0291 - accuracy: 0.9914 - val_loss: 0.0222 - val_accuracy: 0.9930\n",
      "Epoch 23/30\n",
      "442/442 [==============================] - 53s 120ms/step - loss: 0.0292 - accuracy: 0.9910 - val_loss: 0.0216 - val_accuracy: 0.9940\n",
      "Epoch 24/30\n",
      "442/442 [==============================] - 53s 121ms/step - loss: 0.0266 - accuracy: 0.9924 - val_loss: 0.0230 - val_accuracy: 0.9921\n",
      "Epoch 25/30\n",
      "442/442 [==============================] - 54s 121ms/step - loss: 0.0276 - accuracy: 0.9922 - val_loss: 0.0210 - val_accuracy: 0.9933\n",
      "Epoch 26/30\n",
      "442/442 [==============================] - 53s 120ms/step - loss: 0.0231 - accuracy: 0.9925 - val_loss: 0.0237 - val_accuracy: 0.9927\n",
      "Epoch 27/30\n",
      "442/442 [==============================] - 53s 121ms/step - loss: 0.0254 - accuracy: 0.9923 - val_loss: 0.0237 - val_accuracy: 0.9933\n",
      "Epoch 28/30\n",
      "442/442 [==============================] - 53s 120ms/step - loss: 0.0239 - accuracy: 0.9929 - val_loss: 0.0208 - val_accuracy: 0.9930\n",
      "Epoch 29/30\n",
      "442/442 [==============================] - 53s 121ms/step - loss: 0.0228 - accuracy: 0.9934 - val_loss: 0.0200 - val_accuracy: 0.9937\n",
      "Epoch 30/30\n",
      "442/442 [==============================] - 53s 120ms/step - loss: 0.0210 - accuracy: 0.9934 - val_loss: 0.0181 - val_accuracy: 0.9933\n",
      "CNN 5: Epochs=30, Train accuracy=0.99339, Validation accuracy=0.99460\n"
     ]
    }
   ],
   "source": [
    "# train the network\n",
    "history = [0] * nets\n",
    "epochs = 30\n",
    "for j in range(nets):\n",
    "    print(\"CNN \",j+1)\n",
    "    X_train2, X_val2, Y_train2, Y_val2 = train_test_split(X_train, y_train, test_size = 0.1)\n",
    "    history[j] = model[j].fit_generator(datagen.flow(X_train2,Y_train2, batch_size=64),\n",
    "        epochs = epochs, steps_per_epoch = X_train2.shape[0]//64,  \n",
    "        validation_data = (X_val2,Y_val2), callbacks=[annealer], verbose=1)\n",
    "    print(\"CNN {0:d}: Epochs={1:d}, Train accuracy={2:.5f}, Validation accuracy={3:.5f}\".format(\n",
    "        j+1,epochs,max(history[j].history['accuracy']),max(history[j].history['val_accuracy']) ))"
   ]
  },
  {
   "cell_type": "code",
   "execution_count": 38,
   "metadata": {},
   "outputs": [],
   "source": [
    "#make the ensemble prediction on the validation set\n",
    "results_ens = np.zeros( (X_val2.shape[0],10) ) \n",
    "for j in range(nets):\n",
    "    results_ens = results_ens + model[j].predict(X_val2)\n",
    "results_ens = np.argmax(results_ens,axis =1)"
   ]
  },
  {
   "cell_type": "code",
   "execution_count": 48,
   "metadata": {},
   "outputs": [
    {
     "data": {
      "text/plain": [
       "0.9984126984126984"
      ]
     },
     "execution_count": 48,
     "metadata": {},
     "output_type": "execute_result"
    }
   ],
   "source": [
    "#get the score of the ensemble prediction\n",
    "from sklearn.metrics import accuracy_score\n",
    "\n",
    "Y_val2=np.argmax(Y_val2,axis =1)\n",
    "ens_acc=accuracy_score(results_ens,Y_val2)\n"
   ]
  },
  {
   "cell_type": "code",
   "execution_count": 91,
   "metadata": {},
   "outputs": [
    {
     "name": "stdout",
     "output_type": "stream",
     "text": [
      "Ensemble accuracy: 0.9984\n"
     ]
    }
   ],
   "source": [
    "print('Ensemble accuracy: {:.4f}'.format (ens_acc))"
   ]
  },
  {
   "cell_type": "markdown",
   "metadata": {},
   "source": [
    "# Evaluation "
   ]
  },
  {
   "cell_type": "markdown",
   "metadata": {},
   "source": [
    "## Training and validation curves"
   ]
  },
  {
   "cell_type": "code",
   "execution_count": 49,
   "metadata": {},
   "outputs": [
    {
     "data": {
      "image/png": "[encoded data removed]",
      "text/plain": [
       "<Figure size 432x288 with 2 Axes>"
      ]
     },
     "metadata": {},
     "output_type": "display_data"
    }
   ],
   "source": [
    "fig, ax = plt.subplots(2,1)\n",
    "ax[0].plot(history[4].history['loss'], color='b', label=\"Training loss\")\n",
    "ax[0].plot(history[4].history['val_loss'], color='r', label=\"Validation loss\",axes =ax[0])\n",
    "ax[0].grid(color='black', linestyle='-', linewidth=0.25)\n",
    "legend = ax[0].legend(loc='best', shadow=True)\n",
    "\n",
    "ax[1].plot(history[4].history['accuracy'], color='b', label=\"Training accuracy\")\n",
    "ax[1].plot(history[4].history['val_accuracy'], color='r',label=\"Validation accuracy\")\n",
    "ax[1].grid(color='black', linestyle='-', linewidth=0.25)\n",
    "legend = ax[1].legend(loc='best', shadow=True)"
   ]
  },
  {
   "cell_type": "code",
   "execution_count": 80,
   "metadata": {},
   "outputs": [
    {
     "data": {
      "image/png": "[encoded data removed]",
      "text/plain": [
       "<Figure size 576x432 with 1 Axes>"
      ]
     },
     "metadata": {},
     "output_type": "display_data"
    }
   ],
   "source": [
    "#Vizualization of single CNNs and the ensemble accuracy on validation set \n",
    "accs=[]\n",
    "for i in range (nets):\n",
    "    accs.append(history[i].history['val_accuracy'][29])\n",
    "                 \n",
    "accs.append(ens_acc)\n",
    "cnns=['CNN1','CNN2','CNN3','CNN4','CNN5','ENS']\n",
    "\n",
    "fig,ax=plt.subplots(figsize=(8,6))\n",
    "ax=sns.barplot(x=cnns,y=accs)\n",
    "ax.set(ylim=(0.99, 1.0))\n",
    "\n",
    "plt.show()"
   ]
  },
  {
   "cell_type": "markdown",
   "metadata": {},
   "source": [
    "# Prediction"
   ]
  },
  {
   "cell_type": "code",
   "execution_count": 38,
   "metadata": {},
   "outputs": [],
   "source": [
    "#predict the labels of the test \n",
    "results = np.zeros( (test.shape[0],10) ) \n",
    "for j in range(nets):\n",
    "    results = results + model[j].predict(test)\n",
    "results = np.argmax(results,axis = 1)\n",
    "results = pd.Series(results,name=\"Label\")\n",
    "submission = pd.concat([pd.Series(range(1,28001),name = \"ImageId\"),results],axis = 1)\n",
    "submission.to_csv(\"predictions.csv\",index=False)"
   ]
  }
 ],
 "metadata": {
  "hide_input": false,
  "kernelspec": {
   "display_name": "Python 3",
   "language": "python",
   "name": "python3"
  },
  "language_info": {
   "codemirror_mode": {
    "name": "ipython",
    "version": 3
   },
   "file_extension": ".py",
   "mimetype": "text/x-python",
   "name": "python",
   "nbconvert_exporter": "python",
   "pygments_lexer": "ipython3",
   "version": "3.7.6"
  },
  "toc": {
   "base_numbering": 1,
   "nav_menu": {},
   "number_sections": true,
   "sideBar": false,
   "skip_h1_title": false,
   "title_cell": "MNIST_Recognizer_CNN",
   "title_sidebar": "Contents",
   "toc_cell": true,
   "toc_position": {
    "height": "714px",
    "left": "61px",
    "top": "158.14px",
    "width": "224px"
   },
   "toc_section_display": true,
   "toc_window_display": true
  },
  "varInspector": {
   "cols": {
    "lenName": 16,
    "lenType": 16,
    "lenVar": 40
   },
   "kernels_config": {
    "python": {
     "delete_cmd_postfix": "",
     "delete_cmd_prefix": "del ",
     "library": "var_list.py",
     "varRefreshCmd": "print(var_dic_list())"
    },
    "r": {
     "delete_cmd_postfix": ") ",
     "delete_cmd_prefix": "rm(",
     "library": "var_list.r",
     "varRefreshCmd": "cat(var_dic_list()) "
    }
   },
   "types_to_exclude": [
    "module",
    "function",
    "builtin_function_or_method",
    "instance",
    "_Feature"
   ],
   "window_display": false
  }
 },
 "nbformat": 4,
 "nbformat_minor": 4
}
