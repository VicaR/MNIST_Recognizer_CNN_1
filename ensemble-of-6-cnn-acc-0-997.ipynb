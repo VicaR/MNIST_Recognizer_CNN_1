{
 "cells": [
  {
   "cell_type": "markdown",
   "execution_count": null,
   "metadata": {},
   "source": [
    "The notebook uses the ensemble of 6 CNN (inspired by  https://www.kaggle.com/mohammedmurtuzalabib/mnist-ensemble-of-5-cnns-0-99742).\n",
    "\n",
    "There are 3 pairs of 2 CNN of the same architecture.\n",
    "For the ensemble i chose 3 CNN architecture from Kaggle which give the best score (and augmented some of them with BatchNormalization layers).\n",
    "Comparament of the ensemble and single CNNs quality is presented.\n"
   ]
  },
  {
   "cell_type": "markdown",
   "execution_count": null,
   "metadata": {
    "toc": true
   },
   "source": [
    "<h1>MNIST_Recognizer_CNN<span class=\"tocSkip\"></span></h1>\n",
    "<div class=\"toc\"><ul class=\"toc-item\"><li><span><a href=\"#Importing-libraries\" data-toc-modified-id=\"Importing-libraries-1\"><span class=\"toc-item-num\">1&nbsp;&nbsp;</span>Importing libraries</a></span></li><li><span><a href=\"#Data-Preparation\" data-toc-modified-id=\"Data-Preparation-2\"><span class=\"toc-item-num\">2&nbsp;&nbsp;</span>Data Preparation</a></span><ul class=\"toc-item\"><li><span><a href=\"#Load-data\" data-toc-modified-id=\"Load-data-2.1\"><span class=\"toc-item-num\">2.1&nbsp;&nbsp;</span>Load data</a></span></li><li><span><a href=\"#Split-into-Target-and-Features\" data-toc-modified-id=\"Split-into-Target-and-Features-2.2\"><span class=\"toc-item-num\">2.2&nbsp;&nbsp;</span>Split into Target and Features</a></span></li><li><span><a href=\"#Check-for-null-and-missing-values\" data-toc-modified-id=\"Check-for-null-and-missing-values-2.3\"><span class=\"toc-item-num\">2.3&nbsp;&nbsp;</span>Check for null and missing values</a></span></li><li><span><a href=\"#Normalize-data\" data-toc-modified-id=\"Normalize-data-2.4\"><span class=\"toc-item-num\">2.4&nbsp;&nbsp;</span>Normalize data</a></span></li><li><span><a href=\"#Reshape\" data-toc-modified-id=\"Reshape-2.5\"><span class=\"toc-item-num\">2.5&nbsp;&nbsp;</span>Reshape</a></span></li><li><span><a href=\"#Encode-target\" data-toc-modified-id=\"Encode-target-2.6\"><span class=\"toc-item-num\">2.6&nbsp;&nbsp;</span>Encode target</a></span></li><li><span><a href=\"#Split-into-train-and-validation-set\" data-toc-modified-id=\"Split-into-train-and-validation-set-2.7\"><span class=\"toc-item-num\">2.7&nbsp;&nbsp;</span>Split into train and validation set</a></span></li></ul></li><li><span><a href=\"#Modeling-(Ensemble-of-6-CNN)\" data-toc-modified-id=\"Modeling-(Ensemble-of-6-CNN)-3\"><span class=\"toc-item-num\">3&nbsp;&nbsp;</span>Modeling (Ensemble of 6 CNN)</a></span><ul class=\"toc-item\"><li><span><a href=\"#Define-the-model-CNN_1\" data-toc-modified-id=\"Define-the-model-CNN_1-3.1\"><span class=\"toc-item-num\">3.1&nbsp;&nbsp;</span>Define the model CNN_1</a></span></li><li><span><a href=\"#Define-the-model-CNN_2\" data-toc-modified-id=\"Define-the-model-CNN_2-3.2\"><span class=\"toc-item-num\">3.2&nbsp;&nbsp;</span>Define the model CNN_2</a></span></li><li><span><a href=\"#Define-the-model-CNN_3\" data-toc-modified-id=\"Define-the-model-CNN_3-3.3\"><span class=\"toc-item-num\">3.3&nbsp;&nbsp;</span>Define the model CNN_3</a></span></li><li><span><a href=\"#Define-the-model-CNN_4\" data-toc-modified-id=\"Define-the-model-CNN_4-3.4\"><span class=\"toc-item-num\">3.4&nbsp;&nbsp;</span>Define the model CNN_4</a></span></li><li><span><a href=\"#Define-the-model-CNN_5\" data-toc-modified-id=\"Define-the-model-CNN_5-3.5\"><span class=\"toc-item-num\">3.5&nbsp;&nbsp;</span>Define the model CNN_5</a></span></li><li><span><a href=\"#Define-the-model-CNN_6\" data-toc-modified-id=\"Define-the-model-CNN_6-3.6\"><span class=\"toc-item-num\">3.6&nbsp;&nbsp;</span>Define the model CNN_6</a></span></li><li><span><a href=\"#Data-augmentation\" data-toc-modified-id=\"Data-augmentation-3.7\"><span class=\"toc-item-num\">3.7&nbsp;&nbsp;</span>Data augmentation</a></span></li></ul></li><li><span><a href=\"#Evaluation\" data-toc-modified-id=\"Evaluation-4\"><span class=\"toc-item-num\">4&nbsp;&nbsp;</span>Evaluation</a></span><ul class=\"toc-item\"><li><span><a href=\"#Training-and-validation-curves\" data-toc-modified-id=\"Training-and-validation-curves-4.1\"><span class=\"toc-item-num\">4.1&nbsp;&nbsp;</span>Training and validation curves</a></span></li></ul></li><li><span><a href=\"#Prediction\" data-toc-modified-id=\"Prediction-5\"><span class=\"toc-item-num\">5&nbsp;&nbsp;</span>Prediction</a></span></li></ul></div>"
   ]
  },
  {
   "cell_type": "markdown",
   "execution_count": null,
   "metadata": {},
   "source": [
    "# Importing libraries"
   ]
  },
  {
   "cell_type": "code",
   "execution_count": 1,
   "metadata": {},
   "outputs": [],
   "source": [
    "#Basic \n",
    "\n",
    "import numpy as np\n",
    "import pandas as pd\n",
    "import matplotlib.pyplot as plt\n",
    "import seaborn as sns\n",
    "from sklearn.model_selection import train_test_split\n",
    "from sklearn.model_selection import cross_val_score\n",
    "\n",
    "%matplotlib inline\n",
    "sns.set(style='white', context='notebook', palette='deep')\n",
    "\n",
    "np.random.seed(9)"
   ]
  },
  {
   "cell_type": "code",
   "execution_count": 2,
   "metadata": {
    "code_folding": []
   },
   "outputs": [],
   "source": [
    "#Specific\n",
    "\n",
    "import matplotlib.image as mpimg\n",
    "from sklearn.metrics import confusion_matrix\n",
    "import itertools\n",
    "\n",
    "import tensorflow as tf\n",
    "\n",
    "from keras.utils.np_utils import to_categorical #convert to one-hot-encoding\n",
    "from keras.models import Sequential\n",
    "from keras.layers import Dense,Dropout,Flatten,Conv2D,MaxPool2D,BatchNormalization\n",
    "from keras.optimizers import RMSprop\n",
    "from keras.preprocessing.image import ImageDataGenerator\n",
    "from keras.callbacks import ReduceLROnPlateau\n",
    "from keras.callbacks import LearningRateScheduler\n"
   ]
  },
  {
   "cell_type": "code",
   "execution_count": 3,
   "metadata": {},
   "outputs": [
    {
     "name": "stdout",
     "output_type": "stream",
     "text": [
      "Default GPU Device: /device:GPU:0\n",
      "True\n"
     ]
    }
   ],
   "source": [
    "#GPU testing \n",
    "\n",
    "if tf.test.gpu_device_name():\n",
    "    print('Default GPU Device: {}'.format(tf.test.gpu_device_name()))\n",
    "else:\n",
    "    print(\"Please install GPU version of TF\")\n",
    "print(tf.test.is_built_with_cuda())"
   ]
  },
  {
   "cell_type": "markdown",
   "execution_count": null,
   "metadata": {},
   "source": [
    "# Data Preparation "
   ]
  },
  {
   "cell_type": "markdown",
   "execution_count": null,
   "metadata": {},
   "source": [
    "## Load data "
   ]
  },
  {
   "cell_type": "code",
   "execution_count": 4,
   "metadata": {},
   "outputs": [],
   "source": [
    "train=pd.read_csv('../input/digit-recognizer/train.csv')\n",
    "test=pd.read_csv('../input/digit-recognizer/test.csv')"
   ]
  },
  {
   "cell_type": "markdown",
   "execution_count": null,
   "metadata": {},
   "source": [
    "## Split into Target and Features"
   ]
  },
  {
   "cell_type": "code",
   "execution_count": 5,
   "metadata": {},
   "outputs": [],
   "source": [
    "y_train=train['label']\n",
    "X_train=train.drop(columns='label')"
   ]
  },
  {
   "cell_type": "code",
   "execution_count": 6,
   "metadata": {},
   "outputs": [],
   "source": [
    "# free some space\n",
    "del train "
   ]
  },
  {
   "cell_type": "markdown",
   "execution_count": null,
   "metadata": {},
   "source": [
    "Check balance in the target varible"
   ]
  },
  {
   "cell_type": "code",
   "execution_count": 7,
   "metadata": {},
   "outputs": [
    {
     "data": {
      "text/plain": [
       "<matplotlib.axes._subplots.AxesSubplot at 0x7f37fe0c3990>"
      ]
     },
     "execution_count": 7,
     "metadata": {},
     "output_type": "execute_result"
    },
    {
     "data": {
      "image/png": "[encoded data removed]",
      "text/plain": [
       "<Figure size 432x288 with 1 Axes>"
      ]
     },
     "metadata": {},
     "output_type": "display_data"
    }
   ],
   "source": [
    "sns.countplot(y_train)"
   ]
  },
  {
   "cell_type": "markdown",
   "execution_count": null,
   "metadata": {},
   "source": [
    "The dataset is balanced"
   ]
  },
  {
   "cell_type": "markdown",
   "execution_count": null,
   "metadata": {},
   "source": [
    "## Check for null and missing values"
   ]
  },
  {
   "cell_type": "code",
   "execution_count": 8,
   "metadata": {},
   "outputs": [
    {
     "data": {
      "text/plain": [
       "0"
      ]
     },
     "execution_count": 8,
     "metadata": {},
     "output_type": "execute_result"
    }
   ],
   "source": [
    "X_train.isna().any().sum()"
   ]
  },
  {
   "cell_type": "code",
   "execution_count": 9,
   "metadata": {},
   "outputs": [
    {
     "data": {
      "text/plain": [
       "0"
      ]
     },
     "execution_count": 9,
     "metadata": {},
     "output_type": "execute_result"
    }
   ],
   "source": [
    "test.isna().any().sum()"
   ]
  },
  {
   "cell_type": "markdown",
   "execution_count": null,
   "metadata": {},
   "source": [
    "## Normalize data"
   ]
  },
  {
   "cell_type": "code",
   "execution_count": 10,
   "metadata": {},
   "outputs": [],
   "source": [
    "X_train /=255.0\n",
    "test /=255.0"
   ]
  },
  {
   "cell_type": "markdown",
   "execution_count": null,
   "metadata": {},
   "source": [
    "## Reshape"
   ]
  },
  {
   "cell_type": "code",
   "execution_count": 11,
   "metadata": {},
   "outputs": [],
   "source": [
    "X_train=X_train.values.reshape(-1,28,28,1)\n",
    "test=test.values.reshape(-1,28,28,1)"
   ]
  },
  {
   "cell_type": "markdown",
   "execution_count": null,
   "metadata": {},
   "source": [
    "## Encode target"
   ]
  },
  {
   "cell_type": "code",
   "execution_count": 12,
   "metadata": {},
   "outputs": [],
   "source": [
    "#Cross-entropy loss needs OHE for target\n",
    "y_train=to_categorical(y_train,num_classes=10)"
   ]
  },
  {
   "cell_type": "markdown",
   "execution_count": null,
   "metadata": {},
   "source": [
    "## Split into train and validation set"
   ]
  },
  {
   "cell_type": "code",
   "execution_count": 13,
   "metadata": {},
   "outputs": [],
   "source": [
    "#X_train,X_val,y_train,y_val=train_test_split(X_train,y_train,test_size = 0.25, random_state=2)"
   ]
  },
  {
   "cell_type": "code",
   "execution_count": 14,
   "metadata": {},
   "outputs": [
    {
     "data": {
      "text/plain": [
       "<matplotlib.image.AxesImage at 0x7f379807d150>"
      ]
     },
     "execution_count": 14,
     "metadata": {},
     "output_type": "execute_result"
    },
    {
     "data": {
      "image/png": "[encoded data removed]",
      "text/plain": [
       "<Figure size 432x288 with 1 Axes>"
      ]
     },
     "metadata": {},
     "output_type": "display_data"
    }
   ],
   "source": [
    "plt.imshow(X_train[0][:,:,0])"
   ]
  },
  {
   "cell_type": "code",
   "execution_count": 15,
   "metadata": {},
   "outputs": [
    {
     "data": {
      "text/plain": [
       "(42000, 28, 28, 1)"
      ]
     },
     "execution_count": 15,
     "metadata": {},
     "output_type": "execute_result"
    }
   ],
   "source": [
    "X_train.shape"
   ]
  },
  {
   "cell_type": "markdown",
   "execution_count": null,
   "metadata": {},
   "source": [
    "# Modeling (Ensemble of 6 CNN)"
   ]
  },
  {
   "cell_type": "code",
   "execution_count": 16,
   "metadata": {},
   "outputs": [],
   "source": [
    "nets=6\n",
    "model=[0]*nets\n",
    "optimizer = RMSprop(lr=0.001, rho=0.9, epsilon=1e-08, decay=0.0) \n"
   ]
  },
  {
   "cell_type": "markdown",
   "execution_count": null,
   "metadata": {},
   "source": [
    "## Define the model CNN_1"
   ]
  },
  {
   "cell_type": "code",
   "execution_count": 17,
   "metadata": {},
   "outputs": [],
   "source": [
    "#Sequential model\n",
    "model[0]=Sequential()\n",
    "\n",
    "# 2 convolutional layers with 32 filters, 1 subsampling layer, 1 regularization layer\n",
    "model[0].add(Conv2D(filters=32,kernel_size=(5,5),padding='Same',activation='relu',input_shape=(28,28,1)))\n",
    "model[0].add(Conv2D(filters=32,kernel_size=(5,5),padding='Same',activation='relu',input_shape=(28,28,1)))\n",
    "model[0].add(MaxPool2D(pool_size=(2,2)))\n",
    "model[0].add(Dropout(0.25))\n",
    "\n",
    "# 2 convolutional layers with 64 filters, 1 subsampling layer, 1 regularization layer\n",
    "model[0].add(Conv2D(filters=64,kernel_size=(3,3),padding='Same',activation='relu',input_shape=(28,28,1)))\n",
    "model[0].add(Conv2D(filters=64,kernel_size=(3,3),padding='Same',activation='relu',input_shape=(28,28,1)))\n",
    "model[0].add(MaxPool2D(pool_size=(2,2)))\n",
    "model[0].add(Dropout(0.25))\n",
    "\n",
    "#Classification layers\n",
    "model[0].add(Flatten())  #Full conected layer needs 1D array on input\n",
    "model[0].add(Dense(256,activation='relu'))\n",
    "model[0].add(Dropout(0.5))\n",
    "model[0].add(Dense(10,activation='softmax'))\n",
    "\n",
    "model[0].compile(optimizer=optimizer,loss=\"categorical_crossentropy\",metrics=['accuracy'] )"
   ]
  },
  {
   "cell_type": "markdown",
   "execution_count": null,
   "metadata": {},
   "source": [
    "## Define the model CNN_2 "
   ]
  },
  {
   "cell_type": "code",
   "execution_count": 18,
   "metadata": {},
   "outputs": [],
   "source": [
    "model[1]=Sequential()\n",
    "\n",
    "# 2 convolutional layers with 32 filters, 1 subsampling layer, 1 regularization layer\n",
    "model[1].add(Conv2D(filters=32,kernel_size=(5,5),padding='Same',activation='relu',input_shape=(28,28,1)))\n",
    "model[1].add(Conv2D(filters=32,kernel_size=(5,5),padding='Same',activation='relu',input_shape=(28,28,1)))\n",
    "model[1].add(MaxPool2D(pool_size=(2,2)))\n",
    "model[1].add(Dropout(0.25))\n",
    "\n",
    "# 2 convolutional layers with 64 filters, 1 subsampling layer, 1 regularization layer\n",
    "model[1].add(Conv2D(filters=64,kernel_size=(3,3),padding='Same',activation='relu',input_shape=(28,28,1)))\n",
    "model[1].add(Conv2D(filters=64,kernel_size=(3,3),padding='Same',activation='relu',input_shape=(28,28,1)))\n",
    "model[1].add(MaxPool2D(pool_size=(2,2)))\n",
    "model[1].add(Dropout(0.25))\n",
    "\n",
    "#Classification layers\n",
    "model[1].add(Flatten())  #Full conected layer needs 1D array on input\n",
    "model[1].add(Dense(256,activation='relu'))\n",
    "model[1].add(Dropout(0.5))\n",
    "model[1].add(Dense(10,activation='softmax'))\n",
    "\n",
    "model[1].compile(optimizer=optimizer,loss=\"categorical_crossentropy\",metrics=['accuracy'] )"
   ]
  },
  {
   "cell_type": "markdown",
   "execution_count": null,
   "metadata": {},
   "source": [
    "## Define the model CNN_3"
   ]
  },
  {
   "cell_type": "code",
   "execution_count": 19,
   "metadata": {},
   "outputs": [],
   "source": [
    "#Sequential model\n",
    "model[2]=Sequential()\n",
    "\n",
    "# 2 convolutional layers, BatchNormalization, 1 subsampling layer, 1 regularization layer\n",
    "model[2].add(Conv2D(filters=32,kernel_size=(5,5),padding='Same',activation='relu',input_shape=(28,28,1)))\n",
    "model[2].add(BatchNormalization())\n",
    "model[2].add(Conv2D(filters=32,kernel_size=(5,5),padding='Same',activation='relu',input_shape=(28,28,1)))\n",
    "model[2].add(BatchNormalization())\n",
    "model[2].add(MaxPool2D(pool_size=(2,2)))\n",
    "model[2].add(Dropout(0.25))\n",
    "\n",
    "# 2 convolutional layers with 64 filters, BatchNormalization, 1 subsampling layer, 1 regularization layer\n",
    "model[2].add(Conv2D(filters=64,kernel_size=(3,3),padding='Same',activation='relu',input_shape=(28,28,1)))\n",
    "model[2].add(BatchNormalization())\n",
    "model[2].add(Conv2D(filters=64,kernel_size=(3,3),padding='Same',activation='relu',input_shape=(28,28,1)))\n",
    "model[2].add(BatchNormalization())\n",
    "model[2].add(MaxPool2D(pool_size=(2,2)))\n",
    "model[2].add(Dropout(0.25))\n",
    "\n",
    "#Classification layers\n",
    "model[2].add(Flatten())  #Full conected layer needs 1D array on input\n",
    "model[2].add(Dense(256,activation='relu'))\n",
    "model[2].add(BatchNormalization())\n",
    "model[2].add(Dropout(0.5))\n",
    "model[2].add(Dense(10,activation='softmax'))\n",
    "\n",
    "model[2].compile(optimizer=optimizer,loss=\"categorical_crossentropy\",metrics=['accuracy'] )"
   ]
  },
  {
   "cell_type": "markdown",
   "execution_count": null,
   "metadata": {},
   "source": [
    "## Define the model CNN_4\n"
   ]
  },
  {
   "cell_type": "code",
   "execution_count": 20,
   "metadata": {},
   "outputs": [],
   "source": [
    "#Sequential model\n",
    "model[3]=Sequential()\n",
    "\n",
    "# 2 convolutional layers, BatchNormalization, 1 subsampling layer, 1 regularization layer\n",
    "model[3].add(Conv2D(filters=32,kernel_size=(5,5),padding='Same',activation='relu',input_shape=(28,28,1)))\n",
    "model[3].add(BatchNormalization())\n",
    "model[3].add(Conv2D(filters=32,kernel_size=(5,5),padding='Same',activation='relu',input_shape=(28,28,1)))\n",
    "model[3].add(BatchNormalization())\n",
    "model[3].add(MaxPool2D(pool_size=(2,2)))\n",
    "model[3].add(Dropout(0.25))\n",
    "\n",
    "# 2 convolutional layers with 64 filters, BatchNormalization, 1 subsampling layer, 1 regularization layer\n",
    "model[3].add(Conv2D(filters=64,kernel_size=(3,3),padding='Same',activation='relu',input_shape=(28,28,1)))\n",
    "model[3].add(BatchNormalization())\n",
    "model[3].add(Conv2D(filters=64,kernel_size=(3,3),padding='Same',activation='relu',input_shape=(28,28,1)))\n",
    "model[3].add(BatchNormalization())\n",
    "model[3].add(MaxPool2D(pool_size=(2,2)))\n",
    "model[3].add(Dropout(0.25))\n",
    "\n",
    "#Classification layers\n",
    "model[3].add(Flatten())  #Full conected layer needs 1D array on input\n",
    "model[3].add(Dense(256,activation='relu'))\n",
    "model[3].add(BatchNormalization())\n",
    "model[3].add(Dropout(0.5))\n",
    "model[3].add(Dense(10,activation='softmax'))\n",
    "\n",
    "model[3].compile(optimizer=optimizer,loss=\"categorical_crossentropy\",metrics=['accuracy'] )"
   ]
  },
  {
   "cell_type": "markdown",
   "execution_count": null,
   "metadata": {},
   "source": [
    " ## Define the model CNN_5\n"
   ]
  },
  {
   "cell_type": "code",
   "execution_count": 21,
   "metadata": {},
   "outputs": [],
   "source": [
    "#Sequential model\n",
    "model[4]=Sequential()\n",
    "\n",
    "model[4].add(Conv2D(filters=64, kernel_size=3, padding='same', activation='relu', input_shape=(28,28,1)))\n",
    "model[4].add(Conv2D(filters=64, kernel_size=3, padding='same', activation='relu'))\n",
    "model[4].add(Conv2D(filters=128, kernel_size=3, padding='same', activation='relu'))\n",
    "model[4].add(MaxPool2D(pool_size=2))\n",
    "model[4].add(Conv2D(filters=128, kernel_size=3, padding='same', activation='relu'))\n",
    "model[4].add(Conv2D(filters=192, kernel_size=3, padding='same', activation='relu'))\n",
    "model[4].add(MaxPool2D(pool_size=2))\n",
    "model[4].add(Conv2D(filters=192, kernel_size=5, padding='same', activation='relu'))\n",
    "model[4].add(MaxPool2D(pool_size=2, padding='same'))\n",
    "model[4].add(Flatten())\n",
    "model[4].add(Dense(256, activation='relu'))\n",
    "model[4].add(Dense(10, activation='softmax'))\n",
    "\n",
    "model[4].compile(optimizer=optimizer,loss=\"categorical_crossentropy\",metrics=['accuracy'] )"
   ]
  },
  {
   "cell_type": "markdown",
   "execution_count": null,
   "metadata": {},
   "source": [
    "## Define the model CNN_6"
   ]
  },
  {
   "cell_type": "code",
   "execution_count": 22,
   "metadata": {},
   "outputs": [],
   "source": [
    "#Sequential model\n",
    "model[5]=Sequential()\n",
    "\n",
    "model[5].add(Conv2D(filters=64, kernel_size=3, padding='same', activation='relu', input_shape=(28,28,1)))\n",
    "model[5].add(Conv2D(filters=64, kernel_size=3, padding='same', activation='relu'))\n",
    "model[5].add(Conv2D(filters=128, kernel_size=3, padding='same', activation='relu'))\n",
    "model[5].add(MaxPool2D(pool_size=2))\n",
    "model[5].add(Conv2D(filters=128, kernel_size=3, padding='same', activation='relu'))\n",
    "model[5].add(Conv2D(filters=192, kernel_size=3, padding='same', activation='relu'))\n",
    "model[5].add(MaxPool2D(pool_size=2))\n",
    "model[5].add(Conv2D(filters=192, kernel_size=5, padding='same', activation='relu'))\n",
    "model[5].add(MaxPool2D(pool_size=2, padding='same'))\n",
    "model[5].add(Flatten())\n",
    "model[5].add(Dense(256, activation='relu'))\n",
    "model[5].add(Dense(10, activation='softmax'))\n",
    "\n",
    "model[5].compile(optimizer=optimizer,loss=\"categorical_crossentropy\",metrics=['accuracy'] )"
   ]
  },
  {
   "cell_type": "markdown",
   "execution_count": null,
   "metadata": {},
   "source": [
    "## Data augmentation"
   ]
  },
  {
   "cell_type": "code",
   "execution_count": 23,
   "metadata": {},
   "outputs": [],
   "source": [
    "# With data augmentation to prevent overfitting:\n",
    "datagen = ImageDataGenerator(\n",
    "          featurewise_center=False,            # set input mean to 0 over the dataset\n",
    "          samplewise_center=False,             # set each sample mean to 0\n",
    "          featurewise_std_normalization=False, # divide inputs by std of the dataset\n",
    "          samplewise_std_normalization=False,  # divide each input by its std\n",
    "          zca_whitening=False,                 # apply ZCA whitening\n",
    "          rotation_range=10,                   # randomly rotate images in the range (degrees, 0 to 180)\n",
    "          zoom_range = 0.1,                    # Randomly zoom image \n",
    "          width_shift_range=0.1,               # randomly shift images horizontally (fraction of total width)\n",
    "          height_shift_range=0.1,              # randomly shift images vertically (fraction of total height)\n",
    "          horizontal_flip=False,               # randomly flip images\n",
    "          vertical_flip=False)                 # randomly flip images\n",
    "\n",
    "datagen.fit(X_train)"
   ]
  },
  {
   "cell_type": "code",
   "execution_count": 24,
   "metadata": {},
   "outputs": [],
   "source": [
    "annealer = LearningRateScheduler(lambda x: 1e-3 * 0.95 ** x)"
   ]
  },
  {
   "cell_type": "code",
   "execution_count": 25,
   "metadata": {},
   "outputs": [],
   "source": [
    "history = [0] * nets"
   ]
  },
  {
   "cell_type": "markdown",
   "execution_count": null,
   "metadata": {},
   "source": [
    "## Train the network"
   ]
  },
  {
   "cell_type": "code",
   "execution_count": 26,
   "metadata": {
    "code_folding": [],
    "scrolled": true
   },
   "outputs": [
    {
     "name": "stdout",
     "output_type": "stream",
     "text": [
      "CNN  1\n",
      "Epoch 1/20\n",
      "1181/1181 [==============================] - 16s 14ms/step - loss: 0.3180 - accuracy: 0.8994 - val_loss: 0.0688 - val_accuracy: 0.9795 - lr: 0.0010\n",
      "Epoch 2/20\n",
      "1181/1181 [==============================] - 16s 14ms/step - loss: 0.1134 - accuracy: 0.9675 - val_loss: 0.0465 - val_accuracy: 0.9848 - lr: 9.5000e-04\n",
      "Epoch 3/20\n",
      "1181/1181 [==============================] - 17s 14ms/step - loss: 0.0920 - accuracy: 0.9734 - val_loss: 0.0341 - val_accuracy: 0.9893 - lr: 9.0250e-04\n",
      "Epoch 4/20\n",
      "1181/1181 [==============================] - 16s 13ms/step - loss: 0.0902 - accuracy: 0.9754 - val_loss: 0.0254 - val_accuracy: 0.9910 - lr: 8.5737e-04\n",
      "Epoch 5/20\n",
      "1181/1181 [==============================] - 16s 14ms/step - loss: 0.0839 - accuracy: 0.9770 - val_loss: 0.0288 - val_accuracy: 0.9912 - lr: 8.1451e-04\n",
      "Epoch 6/20\n",
      "1181/1181 [==============================] - 17s 14ms/step - loss: 0.0852 - accuracy: 0.9773 - val_loss: 0.0417 - val_accuracy: 0.9902 - lr: 7.7378e-04\n",
      "Epoch 7/20\n",
      "1181/1181 [==============================] - 17s 14ms/step - loss: 0.0825 - accuracy: 0.9775 - val_loss: 0.0391 - val_accuracy: 0.9898 - lr: 7.3509e-04\n",
      "Epoch 8/20\n",
      "1181/1181 [==============================] - 16s 13ms/step - loss: 0.0862 - accuracy: 0.9772 - val_loss: 0.0267 - val_accuracy: 0.9919 - lr: 6.9834e-04\n",
      "Epoch 9/20\n",
      "1181/1181 [==============================] - 16s 14ms/step - loss: 0.0846 - accuracy: 0.9775 - val_loss: 0.0340 - val_accuracy: 0.9888 - lr: 6.6342e-04\n",
      "Epoch 10/20\n",
      "1181/1181 [==============================] - 17s 14ms/step - loss: 0.0892 - accuracy: 0.9774 - val_loss: 0.0285 - val_accuracy: 0.9926 - lr: 6.3025e-04\n",
      "Epoch 11/20\n",
      "1181/1181 [==============================] - 16s 14ms/step - loss: 0.0870 - accuracy: 0.9788 - val_loss: 0.0694 - val_accuracy: 0.9879 - lr: 5.9874e-04\n",
      "Epoch 12/20\n",
      "1181/1181 [==============================] - 16s 14ms/step - loss: 0.0885 - accuracy: 0.9790 - val_loss: 0.0373 - val_accuracy: 0.9929 - lr: 5.6880e-04\n",
      "Epoch 13/20\n",
      "1181/1181 [==============================] - 17s 15ms/step - loss: 0.0854 - accuracy: 0.9786 - val_loss: 0.0280 - val_accuracy: 0.9921 - lr: 5.4036e-04\n",
      "Epoch 14/20\n",
      "1181/1181 [==============================] - 17s 14ms/step - loss: 0.0890 - accuracy: 0.9768 - val_loss: 0.0511 - val_accuracy: 0.9900 - lr: 5.1334e-04\n",
      "Epoch 15/20\n",
      "1181/1181 [==============================] - 17s 14ms/step - loss: 0.0918 - accuracy: 0.9770 - val_loss: 0.0404 - val_accuracy: 0.9912 - lr: 4.8767e-04\n",
      "Epoch 16/20\n",
      "1181/1181 [==============================] - 17s 14ms/step - loss: 0.0898 - accuracy: 0.9783 - val_loss: 0.0552 - val_accuracy: 0.9921 - lr: 4.6329e-04\n",
      "Epoch 17/20\n",
      "1181/1181 [==============================] - 16s 13ms/step - loss: 0.0349 - accuracy: 0.9901 - val_loss: 0.0257 - val_accuracy: 0.9940 - lr: 4.6329e-04\n",
      "Epoch 17/20\n",
      "1181/1181 [==============================] - 16s 14ms/step - loss: 0.0341 - accuracy: 0.9907 - val_loss: 0.0239 - val_accuracy: 0.9945 - lr: 4.4013e-04\n",
      "Epoch 18/20\n",
      "1181/1181 [==============================] - 16s 13ms/step - loss: 0.0328 - accuracy: 0.9905 - val_loss: 0.0295 - val_accuracy: 0.9921 - lr: 4.1812e-04\n",
      "Epoch 19/20\n",
      "1181/1181 [==============================] - 15s 13ms/step - loss: 0.0320 - accuracy: 0.9912 - val_loss: 0.0255 - val_accuracy: 0.9936 - lr: 3.9721e-04\n",
      "Epoch 20/20\n",
      "1181/1181 [==============================] - 16s 13ms/step - loss: 0.0319 - accuracy: 0.9919 - val_loss: 0.0294 - val_accuracy: 0.9940 - lr: 3.7735e-04\n",
      "CNN 3: Epochs=20, Train accuracy=0.99192, Validation accuracy=0.99500\n",
      "CNN  4\n",
      "Epoch 1/20\n",
      "1181/1181 [==============================] - 16s 14ms/step - loss: 0.2682 - accuracy: 0.9159 - val_loss: 0.0671 - val_accuracy: 0.9807 - lr: 0.0010\n",
      "Epoch 2/20\n",
      "1181/1181 [==============================] - 15s 13ms/step - loss: 0.1110 - accuracy: 0.9654 - val_loss: 0.0423 - val_accuracy: 0.9850 - lr: 9.5000e-04\n",
      "Epoch 3/20\n",
      "1181/1181 [==============================] - 15s 13ms/step - loss: 0.0839 - accuracy: 0.9759 - val_loss: 0.0464 - val_accuracy: 0.9850 - lr: 9.0250e-04\n",
      "Epoch 4/20\n",
      "1181/1181 [==============================] - 16s 13ms/step - loss: 0.0728 - accuracy: 0.9788 - val_loss: 0.0285 - val_accuracy: 0.9926 - lr: 8.5737e-04\n",
      "Epoch 5/20\n",
      "1181/1181 [==============================] - 16s 13ms/step - loss: 0.0639 - accuracy: 0.9822 - val_loss: 0.0256 - val_accuracy: 0.9912 - lr: 8.1451e-04\n",
      "Epoch 6/20\n",
      "1181/1181 [==============================] - 16s 13ms/step - loss: 0.0560 - accuracy: 0.9830 - val_loss: 0.0284 - val_accuracy: 0.9914 - lr: 7.7378e-04\n",
      "Epoch 7/20\n",
      "1181/1181 [==============================] - 15s 13ms/step - loss: 0.0540 - accuracy: 0.9835 - val_loss: 0.0299 - val_accuracy: 0.9921 - lr: 7.3509e-04\n",
      "Epoch 8/20\n",
      "1181/1181 [==============================] - 16s 14ms/step - loss: 0.0513 - accuracy: 0.9847 - val_loss: 0.0248 - val_accuracy: 0.9929 - lr: 6.9834e-04\n",
      "Epoch 9/20\n",
      "1181/1181 [==============================] - 16s 13ms/step - loss: 0.0478 - accuracy: 0.9863 - val_loss: 0.0234 - val_accuracy: 0.9940 - lr: 6.6342e-04\n",
      "Epoch 10/20\n",
      "1181/1181 [==============================] - 15s 13ms/step - loss: 0.0480 - accuracy: 0.9865 - val_loss: 0.0185 - val_accuracy: 0.9936 - lr: 6.3025e-04\n",
      "Epoch 11/20\n",
      "1181/1181 [==============================] - 16s 13ms/step - loss: 0.0397 - accuracy: 0.9882 - val_loss: 0.0206 - val_accuracy: 0.9950 - lr: 5.9874e-04\n",
      "Epoch 12/20\n",
      "1181/1181 [==============================] - 17s 14ms/step - loss: 0.0435 - accuracy: 0.9878 - val_loss: 0.0217 - val_accuracy: 0.9938 - lr: 5.6880e-04\n",
      "Epoch 13/20\n",
      "1181/1181 [==============================] - 16s 13ms/step - loss: 0.0399 - accuracy: 0.9889 - val_loss: 0.0217 - val_accuracy: 0.9936 - lr: 5.4036e-04\n",
      "Epoch 14/20\n",
      "1181/1181 [==============================] - 15s 13ms/step - loss: 0.0374 - accuracy: 0.9892 - val_loss: 0.0166 - val_accuracy: 0.9950 - lr: 5.1334e-04\n",
      "Epoch 15/20\n",
      "1181/1181 [==============================] - 15s 13ms/step - loss: 0.0382 - accuracy: 0.9889 - val_loss: 0.0162 - val_accuracy: 0.9950 - lr: 4.8767e-04\n",
      "Epoch 16/20\n",
      "1181/1181 [==============================] - 16s 14ms/step - loss: 0.0371 - accuracy: 0.9909 - val_loss: 0.0174 - val_accuracy: 0.9955 - lr: 4.6329e-04\n",
      "Epoch 17/20\n",
      "  80/1181 [=>............................] - ETA: 13s - loss: 0.0344 - accuracy: 0.9898"
     ]
    }
   ],
   "source": [
    "epochs = 20\n",
    "for j in range(nets):\n",
    "    print(\"CNN \",j+1)\n",
    "    X_train2, X_val2, Y_train2, Y_val2 = train_test_split(X_train, y_train, test_size = 0.1)\n",
    "    history[j] = model[j].fit_generator(datagen.flow(X_train2,Y_train2, batch_size=32),\n",
    "        epochs = epochs, steps_per_epoch = X_train2.shape[0]//32,  \n",
    "        validation_data = (X_val2,Y_val2), callbacks=[annealer], verbose=1)\n",
    "    print(\"CNN {0:d}: Epochs={1:d}, Train accuracy={2:.5f}, Validation accuracy={3:.5f}\".format(\n",
    "        j+1,epochs,max(history[j].history['accuracy']),max(history[j].history['val_accuracy']) ))"
   ]
  },
  {
   "cell_type": "code",
   "execution_count": 27,
   "metadata": {},
   "outputs": [
    {
     "data": {
      "text/plain": [
       "CNN1     [0.991428554058075]\n",
       "CNN2    [0.9895238280296326]\n",
       "CNN3    [0.9940476417541504]\n",
       "CNN4    [0.9957143068313599]\n",
       "CNN5    [0.9852380752563477]\n",
       "CNN6    [0.9788095355033875]\n",
       "dtype: object"
      ]
     },
     "execution_count": 27,
     "metadata": {},
     "output_type": "execute_result"
    }
   ],
   "source": [
    "data={'CNN1':[history[0].history['val_accuracy'][19]],'CNN2':[history[1].history['val_accuracy'][19]],'CNN3':[history[2].history['val_accuracy'][19]],'CNN4':[history[3].history['val_accuracy'][19]],'CNN5':[history[4].history['val_accuracy'][19]],'CNN6':[history[5].history['val_accuracy'][19]]}\n",
    "\n",
    "histories=pd.Series(data)\n",
    "                                \n",
    "histories"
   ]
  },
  {
   "cell_type": "code",
   "execution_count": 28,
   "metadata": {},
   "outputs": [],
   "source": [
    "#make the ensemble prediction on the validation set\n",
    "results_ens = np.zeros( (X_val2.shape[0],10) ) \n",
    "for j in range(nets):\n",
    "    results_ens = results_ens + model[j].predict(X_val2)\n",
    "results_ens = np.argmax(results_ens,axis =1)"
   ]
  },
  {
   "cell_type": "code",
   "execution_count": 29,
   "metadata": {},
   "outputs": [],
   "source": [
    "#get the score of the ensemble prediction\n",
    "from sklearn.metrics import accuracy_score\n",
    "\n",
    "Y_val2=np.argmax(Y_val2,axis =1)\n",
    "ens_acc=accuracy_score(results_ens,Y_val2)\n"
   ]
  },
  {
   "cell_type": "code",
   "execution_count": 30,
   "metadata": {},
   "outputs": [
    {
     "name": "stdout",
     "output_type": "stream",
     "text": [
      "Ensemble accuracy: 0.9964\n"
     ]
    }
   ],
   "source": [
    "print('Ensemble accuracy: {:.4f}'.format (ens_acc))"
   ]
  },
  {
   "cell_type": "markdown",
   "execution_count": null,
   "metadata": {},
   "source": [
    "# Evaluation "
   ]
  },
  {
   "cell_type": "markdown",
   "execution_count": null,
   "metadata": {},
   "source": [
    "## Training and validation curves"
   ]
  },
  {
   "cell_type": "code",
   "execution_count": 31,
   "metadata": {},
   "outputs": [
    {
     "data": {
      "image/png": "[encoded data removed]",
      "text/plain": [
       "<Figure size 432x288 with 2 Axes>"
      ]
     },
     "metadata": {},
     "output_type": "display_data"
    }
   ],
   "source": [
    "fig, ax = plt.subplots(2,1)\n",
    "ax[0].plot(history[5].history['loss'], color='b', label=\"Training loss\")\n",
    "ax[0].plot(history[5].history['val_loss'], color='r', label=\"Validation loss\",axes =ax[0])\n",
    "ax[0].grid(color='black', linestyle='-', linewidth=0.25)\n",
    "legend = ax[0].legend(loc='best', shadow=True)\n",
    "\n",
    "ax[1].plot(history[5].history['accuracy'], color='b', label=\"Training accuracy\")\n",
    "ax[1].plot(history[5].history['val_accuracy'], color='r',label=\"Validation accuracy\")\n",
    "ax[1].grid(color='black', linestyle='-', linewidth=0.25)\n",
    "legend = ax[1].legend(loc='best', shadow=True)"
   ]
  },
  {
   "cell_type": "code",
   "execution_count": 32,
   "metadata": {},
   "outputs": [
    {
     "data": {
      "image/png": "[encoded data removed]",
      "text/plain": [
       "<Figure size 576x432 with 1 Axes>"
      ]
     },
     "metadata": {},
     "output_type": "display_data"
    }
   ],
   "source": [
    "#Vizualization of single CNNs and the ensemble accuracy on validation set \n",
    "accs=[]\n",
    "for i in range (nets):\n",
    "    accs.append(history[i].history['val_accuracy'][19])\n",
    "                 \n",
    "accs.append(ens_acc)\n",
    "cnns=['CNN1','CNN2','CNN3','CNN4','CNN5','CNN6','ENS']\n",
    "\n",
    "fig,ax=plt.subplots(figsize=(8,6))\n",
    "ax=sns.barplot(x=cnns,y=accs)\n",
    "ax.set(ylim=(0.98, 1.0))\n",
    "\n",
    "plt.show()"
   ]
  },
  {
   "cell_type": "markdown",
   "execution_count": null,
   "metadata": {},
   "source": [
    "We can see that 3rd anf 4th CNN give the best quality. These nets are stolen from https://www.kaggle.com/yassineghouzam/introduction-to-cnn-keras-0-997-top-6 and augmented with BatchNormalization layers."
   ]
  },
  {
   "cell_type": "markdown",
   "execution_count": null,
   "metadata": {},
   "source": [
    "# Prediction"
   ]
  },
  {
   "cell_type": "code",
   "execution_count": 33,
   "metadata": {},
   "outputs": [],
   "source": [
    "#predict the labels of the test \n",
    "results = np.zeros( (test.shape[0],10) ) \n",
    "for j in range(nets):\n",
    "    results = results + model[j].predict(test)\n",
    "results = np.argmax(results,axis = 1)\n",
    "results = pd.Series(results,name=\"Label\")\n",
    "submission = pd.concat([pd.Series(range(1,28001),name = \"ImageId\"),results],axis = 1)\n",
    "submission.to_csv(\"predictions.csv\",index=False)"
   ]
  },
  {
   "cell_type": "markdown",
   "execution_count": null,
   "metadata": {},
   "source": [
    "<font size=5 color=\"red\">Thank you for your attention! If you find this notebook useful, please, VOTE for it!!!</font>\n"
   ]
  }
 ],
 "metadata": {
  "kernelspec": {
   "display_name": "Python 3",
   "language": "python",
   "name": "python3"
  },
  "language_info": {
   "codemirror_mode": {
    "name": "ipython",
    "version": 3
   },
   "file_extension": ".py",
   "mimetype": "text/x-python",
   "name": "python",
   "nbconvert_exporter": "python",
   "pygments_lexer": "ipython3",
   "version": "3.7.6"
  }
 },
 "nbformat": 4,
 "nbformat_minor": 4
}
